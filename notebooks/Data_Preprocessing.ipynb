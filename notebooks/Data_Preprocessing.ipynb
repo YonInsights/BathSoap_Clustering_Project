{
 "cells": [
  {
   "cell_type": "code",
   "execution_count": null,
   "metadata": {},
   "outputs": [],
   "source": [
    "import pandas as pd\n",
    "data_path = r'D:\\Osiri University\\ML\\Final Project\\BathSoap_Clustering_Project\\data\\Copy of BathSoap_Data.xlsx'\n",
    "# Load the metadata (column descriptions) from Sheet 1\n",
    "metadata = pd.read_excel(data_path, sheet_name='Sheet1')\n",
    "\n",
    "# Load the actual data from Sheet 2\n",
    "data = pd.read_excel(data_path, sheet_name='Sheet2')\n",
    "# Display the first few rows of the metadata\n",
    "print(\"Metadata (Sheet 1):\")\n",
    "print(metadata.head())\n",
    "\n",
    "# Display the first few rows of the actual data\n",
    "print(\"\\nData (Sheet 2):\")\n",
    "print(data.head())\n",
    "\n",
    "\n"
   ]
  }
 ],
 "metadata": {
  "language_info": {
   "name": "python"
  }
 },
 "nbformat": 4,
 "nbformat_minor": 2
}
