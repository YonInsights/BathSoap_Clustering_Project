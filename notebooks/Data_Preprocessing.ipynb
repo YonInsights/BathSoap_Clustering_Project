{
 "cells": [
  {
   "cell_type": "code",
   "execution_count": 1,
   "metadata": {},
   "outputs": [],
   "source": [
    "import pandas as pd\n",
    "\n",
    "metadata_path = r'D:\\Osiri University\\ML\\Final Project\\BathSoap_Clustering_Project\\data\\CodelList.csv'\n",
    "data_path = r'D:\\Osiri University\\ML\\Final Project\\BathSoap_Clustering_Project\\data\\DM_Sheet.csv'\n",
    "\n",
    "# Load the metadata (column descriptions) from CodelList.csv\n",
    "metadata = pd.read_csv(metadata_path)\n",
    "\n",
    "# Load the actual data from DM_Sheet.csv\n",
    "data = pd.read_csv(data_path)\n"
   ]
  },
  {
   "cell_type": "code",
   "execution_count": 2,
   "metadata": {},
   "outputs": [
    {
     "name": "stdout",
     "output_type": "stream",
     "text": [
      "Metadata (CodeIList.csv) Preview:\n",
      "         Unnamed: 0                                Unnamed: 1 Unnamed: 2  \\\n",
      "0  Demographic Data                                       NaN        NaN   \n",
      "1               MEM                                 Member ID        NaN   \n",
      "2               SEC  Socio economic class (1 = high, 4 = low)        NaN   \n",
      "3                 1                                         A        NaN   \n",
      "4                 2                                         B        NaN   \n",
      "\n",
      "  Unnamed: 3  Unnamed: 4  Unnamed: 5  Unnamed: 6  Unnamed: 7  Unnamed: 8  \\\n",
      "0        NaN         NaN         NaN         NaN         NaN         NaN   \n",
      "1        NaN         NaN         NaN         NaN         NaN         NaN   \n",
      "2        NaN         NaN         NaN         NaN         NaN         NaN   \n",
      "3        NaN         NaN         NaN         NaN         NaN         NaN   \n",
      "4        NaN         NaN         NaN         NaN         NaN         NaN   \n",
      "\n",
      "   Brand Code         Brand Name Pack Size  Price Wise  Proposition  \\\n",
      "0         1.0              Blush      75 G         1.0          5.0   \n",
      "1         2.0  Dettol + Mug On 2     150 G         1.0          6.0   \n",
      "2         3.0            Cinthol     100 G         1.0          8.0   \n",
      "3         4.0        Cinthol New      75 G         1.0          8.0   \n",
      "4         5.0             Dettol      75 G         1.0          6.0   \n",
      "\n",
      "   Unnamed: 14  \n",
      "0          NaN  \n",
      "1          NaN  \n",
      "2          NaN  \n",
      "3          NaN  \n",
      "4          NaN  \n"
     ]
    }
   ],
   "source": [
    "# Preview the first few rows of the metadata\n",
    "print(\"Metadata (CodeIList.csv) Preview:\")\n",
    "print(metadata.head())\n",
    "\n",
    "\n"
   ]
  },
  {
   "cell_type": "code",
   "execution_count": 3,
   "metadata": {},
   "outputs": [
    {
     "name": "stdout",
     "output_type": "stream",
     "text": [
      "\n",
      "Data (DM_Sheet.csv) Preview:\n",
      "   Member id  SEC  FEH    MT  SEX  AGE  EDU   HS  CHILD   CS  ...  PropCat 6  \\\n",
      "0  1010010.0  4.0  3.0  10.0  1.0  4.0  4.0  2.0    4.0  1.0  ...      0.00%   \n",
      "1  1010020.0  3.0  2.0  10.0  2.0  2.0  4.0  4.0    2.0  1.0  ...     34.70%   \n",
      "2  1014020.0  2.0  3.0  10.0  2.0  4.0  5.0  6.0    4.0  1.0  ...     12.10%   \n",
      "3  1014030.0  4.0  0.0   0.0  0.0  4.0  0.0  0.0    5.0  0.0  ...      0.00%   \n",
      "4  1014190.0  4.0  1.0  10.0  2.0  3.0  4.0  4.0    3.0  1.0  ...      0.00%   \n",
      "\n",
      "   PropCat 7  PropCat 8  PropCat 9  PropCat 10  PropCat 11  PropCat 12  \\\n",
      "0      0.00%      0.00%      0.00%       0.00%       0.00%       2.80%   \n",
      "1      2.70%      1.60%      1.40%       0.00%       5.90%       0.00%   \n",
      "2      3.40%      1.10%      0.90%       0.00%       0.00%       1.60%   \n",
      "3      0.00%      0.00%      0.00%       0.00%       0.00%       0.00%   \n",
      "4      0.00%      4.80%      0.00%       0.00%       0.00%       0.00%   \n",
      "\n",
      "   PropCat 13  PropCat 14 PropCat 15  \n",
      "0       0.00%      13.10%     34.00%  \n",
      "1       0.00%       8.10%      0.00%  \n",
      "2       0.00%      56.20%      0.30%  \n",
      "3       0.00%      60.00%      0.00%  \n",
      "4       0.00%      14.50%      0.00%  \n",
      "\n",
      "[5 rows x 46 columns]\n"
     ]
    }
   ],
   "source": [
    "# Preview the first few rows of the actual data\n",
    "print(\"\\nData (DM_Sheet.csv) Preview:\")\n",
    "print(data.head())"
   ]
  },
  {
   "cell_type": "code",
   "execution_count": 4,
   "metadata": {},
   "outputs": [
    {
     "name": "stdout",
     "output_type": "stream",
     "text": [
      "Metadata (CodeIList.csv) Structure:\n",
      "<class 'pandas.core.frame.DataFrame'>\n",
      "RangeIndex: 645 entries, 0 to 644\n",
      "Data columns (total 15 columns):\n",
      " #   Column       Non-Null Count  Dtype  \n",
      "---  ------       --------------  -----  \n",
      " 0   Unnamed: 0   179 non-null    object \n",
      " 1   Unnamed: 1   171 non-null    object \n",
      " 2   Unnamed: 2   75 non-null     object \n",
      " 3   Unnamed: 3   1 non-null      object \n",
      " 4   Unnamed: 4   0 non-null      float64\n",
      " 5   Unnamed: 5   0 non-null      float64\n",
      " 6   Unnamed: 6   0 non-null      float64\n",
      " 7   Unnamed: 7   0 non-null      float64\n",
      " 8   Unnamed: 8   0 non-null      float64\n",
      " 9   Brand Code   638 non-null    float64\n",
      " 10  Brand Name   638 non-null    object \n",
      " 11  Pack Size    617 non-null    object \n",
      " 12  Price Wise   638 non-null    float64\n",
      " 13  Proposition  638 non-null    float64\n",
      " 14  Unnamed: 14  0 non-null      float64\n",
      "dtypes: float64(9), object(6)\n",
      "memory usage: 75.7+ KB\n",
      "None\n"
     ]
    }
   ],
   "source": [
    "# Check the structure of the metadata\n",
    "print(\"Metadata (CodeIList.csv) Structure:\")\n",
    "print(metadata.info())\n",
    "\n",
    "\n"
   ]
  },
  {
   "cell_type": "code",
   "execution_count": 5,
   "metadata": {},
   "outputs": [
    {
     "name": "stdout",
     "output_type": "stream",
     "text": [
      "\n",
      "Data (DM_Sheet.csv) Structure:\n",
      "<class 'pandas.core.frame.DataFrame'>\n",
      "RangeIndex: 602 entries, 0 to 601\n",
      "Data columns (total 46 columns):\n",
      " #   Column                 Non-Null Count  Dtype  \n",
      "---  ------                 --------------  -----  \n",
      " 0   Member id              600 non-null    float64\n",
      " 1   SEC                    600 non-null    float64\n",
      " 2   FEH                    600 non-null    float64\n",
      " 3   MT                     600 non-null    float64\n",
      " 4   SEX                    600 non-null    float64\n",
      " 5   AGE                    600 non-null    float64\n",
      " 6   EDU                    600 non-null    float64\n",
      " 7   HS                     600 non-null    float64\n",
      " 8   CHILD                  600 non-null    float64\n",
      " 9   CS                     600 non-null    float64\n",
      " 10  Affluence Index        600 non-null    float64\n",
      " 11  No. of Brands          600 non-null    float64\n",
      " 12  Brand Runs             600 non-null    float64\n",
      " 13  Total Volume           601 non-null    float64\n",
      " 14  No. of  Trans          600 non-null    float64\n",
      " 15  Value                  600 non-null    float64\n",
      " 16  Trans / Brand Runs     600 non-null    float64\n",
      " 17  Vol/Tran               600 non-null    float64\n",
      " 18  Avg. Price             600 non-null    float64\n",
      " 19  Pur Vol No Promo - %   600 non-null    object \n",
      " 20  Pur Vol Promo 6 %      600 non-null    object \n",
      " 21  Pur Vol Other Promo %  600 non-null    object \n",
      " 22  Br. Cd. 57, 144        600 non-null    object \n",
      " 23  Br. Cd. 55             600 non-null    object \n",
      " 24  Br. Cd. 272            600 non-null    object \n",
      " 25  Br. Cd. 286            600 non-null    object \n",
      " 26  Br. Cd. 24             600 non-null    object \n",
      " 27  Br. Cd. 481            600 non-null    object \n",
      " 28  Br. Cd. 352            600 non-null    object \n",
      " 29  Br. Cd. 5              600 non-null    object \n",
      " 30  Others 999             600 non-null    object \n",
      " 31  Pr Cat 1               600 non-null    object \n",
      " 32  Pr Cat 2               600 non-null    object \n",
      " 33  Pr Cat 3               600 non-null    object \n",
      " 34  Pr Cat 4               600 non-null    object \n",
      " 35  PropCat 5              600 non-null    object \n",
      " 36  PropCat 6              600 non-null    object \n",
      " 37  PropCat 7              600 non-null    object \n",
      " 38  PropCat 8              600 non-null    object \n",
      " 39  PropCat 9              600 non-null    object \n",
      " 40  PropCat 10             600 non-null    object \n",
      " 41  PropCat 11             600 non-null    object \n",
      " 42  PropCat 12             600 non-null    object \n",
      " 43  PropCat 13             600 non-null    object \n",
      " 44  PropCat 14             600 non-null    object \n",
      " 45  PropCat 15             600 non-null    object \n",
      "dtypes: float64(19), object(27)\n",
      "memory usage: 216.5+ KB\n",
      "None\n"
     ]
    }
   ],
   "source": [
    "# Check the structure of the actual data\n",
    "print(\"\\nData (DM_Sheet.csv) Structure:\")\n",
    "print(data.info())"
   ]
  },
  {
   "cell_type": "code",
   "execution_count": 6,
   "metadata": {},
   "outputs": [
    {
     "name": "stdout",
     "output_type": "stream",
     "text": [
      "Missing values in Data (DM_Sheet.csv):\n",
      "Member id                2\n",
      "SEC                      2\n",
      "FEH                      2\n",
      "MT                       2\n",
      "SEX                      2\n",
      "AGE                      2\n",
      "EDU                      2\n",
      "HS                       2\n",
      "CHILD                    2\n",
      "CS                       2\n",
      "Affluence Index          2\n",
      "No. of Brands            2\n",
      "Brand Runs               2\n",
      "Total Volume             1\n",
      "No. of  Trans            2\n",
      "Value                    2\n",
      "Trans / Brand Runs       2\n",
      "Vol/Tran                 2\n",
      "Avg. Price               2\n",
      "Pur Vol No Promo - %     2\n",
      "Pur Vol Promo 6 %        2\n",
      "Pur Vol Other Promo %    2\n",
      "Br. Cd. 57, 144          2\n",
      "Br. Cd. 55               2\n",
      "Br. Cd. 272              2\n",
      "Br. Cd. 286              2\n",
      "Br. Cd. 24               2\n",
      "Br. Cd. 481              2\n",
      "Br. Cd. 352              2\n",
      "Br. Cd. 5                2\n",
      "Others 999               2\n",
      "Pr Cat 1                 2\n",
      "Pr Cat 2                 2\n",
      "Pr Cat 3                 2\n",
      "Pr Cat 4                 2\n",
      "PropCat 5                2\n",
      "PropCat 6                2\n",
      "PropCat 7                2\n",
      "PropCat 8                2\n",
      "PropCat 9                2\n",
      "PropCat 10               2\n",
      "PropCat 11               2\n",
      "PropCat 12               2\n",
      "PropCat 13               2\n",
      "PropCat 14               2\n",
      "PropCat 15               2\n",
      "dtype: int64\n"
     ]
    }
   ],
   "source": [
    "# Check for missing values in the actual data\n",
    "print(\"Missing values in Data (DM_Sheet.csv):\")\n",
    "print(data.isnull().sum())\n"
   ]
  },
  {
   "cell_type": "code",
   "execution_count": 7,
   "metadata": {},
   "outputs": [],
   "source": [
    "# Fill missing values with the mean of their respective columns\n",
    "data_cleaned = data.fillna(data.mean(numeric_only=True))\n"
   ]
  },
  {
   "cell_type": "code",
   "execution_count": 8,
   "metadata": {},
   "outputs": [
    {
     "name": "stdout",
     "output_type": "stream",
     "text": [
      "Cleaned Data (DM_Sheet.csv):\n",
      "   Member id  SEC  FEH    MT  SEX  AGE  EDU   HS  CHILD   CS  ...  PropCat 6  \\\n",
      "0  1010010.0  4.0  3.0  10.0  1.0  4.0  4.0  2.0    4.0  1.0  ...      0.00%   \n",
      "1  1010020.0  3.0  2.0  10.0  2.0  2.0  4.0  4.0    2.0  1.0  ...     34.70%   \n",
      "2  1014020.0  2.0  3.0  10.0  2.0  4.0  5.0  6.0    4.0  1.0  ...     12.10%   \n",
      "3  1014030.0  4.0  0.0   0.0  0.0  4.0  0.0  0.0    5.0  0.0  ...      0.00%   \n",
      "4  1014190.0  4.0  1.0  10.0  2.0  3.0  4.0  4.0    3.0  1.0  ...      0.00%   \n",
      "\n",
      "   PropCat 7  PropCat 8  PropCat 9  PropCat 10  PropCat 11  PropCat 12  \\\n",
      "0      0.00%      0.00%      0.00%       0.00%       0.00%       2.80%   \n",
      "1      2.70%      1.60%      1.40%       0.00%       5.90%       0.00%   \n",
      "2      3.40%      1.10%      0.90%       0.00%       0.00%       1.60%   \n",
      "3      0.00%      0.00%      0.00%       0.00%       0.00%       0.00%   \n",
      "4      0.00%      4.80%      0.00%       0.00%       0.00%       0.00%   \n",
      "\n",
      "   PropCat 13  PropCat 14 PropCat 15  \n",
      "0       0.00%      13.10%     34.00%  \n",
      "1       0.00%       8.10%      0.00%  \n",
      "2       0.00%      56.20%      0.30%  \n",
      "3       0.00%      60.00%      0.00%  \n",
      "4       0.00%      14.50%      0.00%  \n",
      "\n",
      "[5 rows x 46 columns]\n"
     ]
    }
   ],
   "source": [
    "# Preview cleaned data\n",
    "print(\"Cleaned Data (DM_Sheet.csv):\")\n",
    "print(data_cleaned.head())\n"
   ]
  }
 ],
 "metadata": {
  "kernelspec": {
   "display_name": "base",
   "language": "python",
   "name": "python3"
  },
  "language_info": {
   "codemirror_mode": {
    "name": "ipython",
    "version": 3
   },
   "file_extension": ".py",
   "mimetype": "text/x-python",
   "name": "python",
   "nbconvert_exporter": "python",
   "pygments_lexer": "ipython3",
   "version": "3.11.9"
  }
 },
 "nbformat": 4,
 "nbformat_minor": 2
}
